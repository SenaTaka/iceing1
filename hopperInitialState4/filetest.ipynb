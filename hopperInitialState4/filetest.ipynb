{
 "cells": [
  {
   "cell_type": "code",
   "execution_count": 11,
   "metadata": {},
   "outputs": [],
   "source": [
    "# FILEPATH: helloworld.py\n",
    "\n",
    "def hello_world():\n",
    "  with open(\"hello:hi\", \"w\") as file:\n",
    "    file.write(\"Hello, World!\")\n",
    "\n",
    "if __name__ == \"__main__\":\n",
    "  hello_world()"
   ]
  },
  {
   "cell_type": "code",
   "execution_count": 13,
   "metadata": {},
   "outputs": [
    {
     "name": "stdout",
     "output_type": "stream",
     "text": [
      "Before: Hello, World2!\n"
     ]
    }
   ],
   "source": [
    "def append_hihi():\n",
    "    # \"hello:hi\" を読み込み、その後に \"hihi\" を追記\n",
    "    with open(\"hello:hi\", \"a+\") as file:  # a+モードは読み書きが可能で、追記されます\n",
    "        file.seek(0)  # ファイルの先頭に移動して内容を読み込む\n",
    "        content = file.read()  # 既存の内容を読み込む\n",
    "        print(\"Before:\", content)  # 読み込んだ内容を確認 (オプション)\n",
    "        \n",
    "        file.write(\"\\nhihi\")  # 次の行に \"hihi\" を書き込む\n",
    "\n",
    "if __name__ == \"__main__\":\n",
    "    append_hihi()\n"
   ]
  }
 ],
 "metadata": {
  "kernelspec": {
   "display_name": ".venv",
   "language": "python",
   "name": "python3"
  },
  "language_info": {
   "codemirror_mode": {
    "name": "ipython",
    "version": 3
   },
   "file_extension": ".py",
   "mimetype": "text/x-python",
   "name": "python",
   "nbconvert_exporter": "python",
   "pygments_lexer": "ipython3",
   "version": "3.12.3"
  }
 },
 "nbformat": 4,
 "nbformat_minor": 2
}
